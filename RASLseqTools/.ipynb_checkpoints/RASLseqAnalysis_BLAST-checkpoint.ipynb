{
 "cells": [
  {
   "cell_type": "code",
   "execution_count": 1,
   "metadata": {
    "collapsed": true
   },
   "outputs": [],
   "source": [
    "import pandas as pd\n",
    "import os,sys\n",
    "import numpy as np\n",
    "import argparse\n",
    "sys.path.append('../')\n",
    "from RASLseqTools import *\n",
    "\n",
    "\n",
    "\n",
    "\n",
    "\n",
    "class RASLseqAnalysis_obj_heur(object):\n",
    "    '''\n",
    "    This class creates a pandas DataFrame for RASLseq fastq sequences.\n",
    "    \n",
    "    Attributes of this class annotate RASLseq fastq sequences.\n",
    "    \n",
    "    The get_attributes method allows the user to specify what additional\n",
    "    information to add to the pandas DataFrame.\n",
    "    \n",
    "    \n",
    "    Attributes\n",
    "    ----------\n",
    "    \n",
    "    fastq_file: str \n",
    "        path to Fastq file\n",
    "        \n",
    "    probes_path: str\n",
    "        path to Probe file\n",
    "        \n",
    "    blastdb: str \n",
    "        path to write a blast database\n",
    "        \n",
    "    blastn_dir: str\n",
    "        path to directory holding the blastn executable\n",
    "    \n",
    "    well_annot: str\n",
    "        path to Barcode Annotations file\n",
    "    \n",
    "    write: str \n",
    "        path to write directory\n",
    "    \n",
    "    print_on: boolean, default=False\n",
    "        Whether to print information during data processing\n",
    "    \n",
    "    read_df: pandas DataFrame\n",
    "        index: (PlateBarcode, sequence)\n",
    "        columns: ['PlateBarcode', 'seq', 'seq_count']\n",
    "            PlateBarcode - Index read from fastq file\n",
    "            seq - fastq read sequence\n",
    "            seq_count - number of occurrences of seq in fastq\n",
    "    \n",
    "    \n",
    "    APRIL 14 2014: ToDos:  \n",
    "        2) Refactor external methods ( raslblast) \n",
    "        3) Package everything\n",
    "        4) Consider GUI\n",
    "    \n",
    "    '''\n",
    "\n",
    "    def __init__(self, fastq_path, sequencer_id, probes_path, blastdb_path, blastn_dir, well_annot, write_path, print_on=False ):\n",
    "        #create a probe with name name\n",
    "        \n",
    "        self.RASLseqReads_obj = RASLseqReads.RASLseqReads(fastq_path, sequencer_id, print_on)\n",
    "        \n",
    "        self.RASLseqProbes_obj = RASLseqProbes.RASLseqProbes(probes_path, blastdb_path, blastn_dir, aligner='blast')   \n",
    "        \n",
    "        self.RASLseqBCannot_obj = RASLseqBCannot.RASLseqBCannot(well_annot)\n",
    "        \n",
    "        self.RASLseqBCannot_obj.well_bc = self.RASLseqBCannot_obj.well_bc\n",
    "        \n",
    "        self.sequencer_id = sequencer_id\n",
    "        \n",
    "        self.print_on = print_on\n",
    "        \n",
    "        self.write_path = write_path\n",
    "        \n",
    "        #self.write_obj = open(write_path,'w')\n",
    "        \n",
    "        self.read_df = self.RASLseqReads_obj.get_blast_read_df()\n",
    "        \n",
    "        self.fastq_read_count = self.read_df.seq_count.sum()  #number of total reads found in fastq input    \n",
    "        \n",
    "        \n",
    "        #filter thresholds\n",
    "        self.bc_edit_dist_filter = 2\n",
    "        \n",
    "        self.blast_results_filter = {'length':30, 'qstart':6, 'obs_wellbc_len_max':10, 'obs_wellbc_len_min':6}\n",
    "    \n",
    "    \n",
    "    \n",
    "    def _get_probe_well_read_counts(self, collapsed_read_counts):\n",
    "        '''\n",
    "        This function aggregates probe-specific read counts for each plate and well\n",
    "        \n",
    "        Parameters\n",
    "        ----------\n",
    "        collapsed_read_counts: pandas dataframe\n",
    "            must possess cols: ['plate_barcode','mapped_bc','probe']\n",
    "            \n",
    "        Returns\n",
    "        -------\n",
    "        Pandas Dataframe\n",
    "            index: ['plate_barcode','WellBarcode']\n",
    "            columns: Probe-specific read count sum (sum of counts across reads\n",
    "            mapping by BLAST to probe)\n",
    "        '''\n",
    "        \n",
    "        #grouping reads by plate barcode, well barcode, and probe\n",
    "        collapsed_read_counts_group = collapsed_read_counts.groupby(['plate_barcode','mapped_bc','probe'])\n",
    "        \n",
    "        #aggregating probe counts for each well\n",
    "        counts = collapsed_read_counts_group.seq_count.aggregate(np.sum)\n",
    "        counts_df = counts.unstack(level=2)  #creating matrix of aggregated probe counts indexed on 'plate_barcode','mapped_bc'\n",
    "        \n",
    "        \n",
    "        #id and removal of off-target ligation hits found by ! character in blast sseq name\n",
    "        on_target_col = [i for i in counts_df.columns if \"!\" not in i]  \n",
    "        counts_df = counts_df[on_target_col]  #removing off-target ligation hits from df\n",
    "        counts_df.index.names= ['PlateBarcode', 'WellBarcode']\n",
    "        return counts_df\n",
    "    \n",
    "    \n",
    "    \n",
    "    def _merge_plate_well_annot(self, probe_counts_df, well_annot_df):\n",
    "        '''\n",
    "        This function merges gene_counts_df with well annotations\n",
    "        \n",
    "        Parameters\n",
    "        ----------\n",
    "        probe_counts_df: Pandas DataFrame\n",
    "            Requires pandas index: ('plate_barcode','WellBarcode')\n",
    "        \n",
    "        well_annot_path: Pandas DataFrame\n",
    "            Requires pandas index: ('plate_barcode','WellBarcode')\n",
    "        \n",
    "        Returns\n",
    "        -------\n",
    "        Pandas DataFrame\n",
    "            well_annot_df right joined to gene_counts_df\n",
    "            index: ('plate_barcode','WellBarcode')\n",
    "            \n",
    "        '''\n",
    "        return well_annot_df.join(probe_counts_df,how='right')\n",
    "    \n",
    "    \n",
    "    \n",
    "\n",
    "    def get_target_counts_df(self):\n",
    "        '''\n",
    "        This method uses a functional programming design to \n",
    "        produce a pandas DataFrame describing the RASLseq probe-specific\n",
    "        read counts prepended with well specific annotations.\n",
    "        \n",
    "        '''\n",
    "        \n",
    "        #Add observed wellbc\n",
    "        #self.read_df = RASLseqWellbc.get_rasl_probe_and_wellbc_exact_df(self.read_df, print_on=self.print_on)\n",
    "        self.read_df['observed_wellbc'] = self.read_df['seq'].str[:8]\n",
    "         \n",
    "        #add fuzzy matched wellbc (mapped_bc)\n",
    "        self.read_df = RASLseqWellbc.get_rasl_probe_and_wellbc_fuzzy_df(self.read_df, self.RASLseqBCannot_obj.well_bc, \\\n",
    "                            print_on=self.print_on)         \n",
    "        \n",
    "        #filter fuzzy wellbc mappings\n",
    "        self.read_df = self.read_df[(self.read_df.bc_edit_dist.astype(float) < self.bc_edit_dist_filter)]\n",
    "        \n",
    "        #add observed rasl_probe_seq\n",
    "        #self.read_df = RASLseqSeq.get_rasl_probe_exact_df(self.read_df)\n",
    "        self.read_df['rasl_probe'] = self.read_df['seq'].str[23:65]\n",
    "        \n",
    "        #blast alignment\n",
    "        self.read_df = RASLseqAlign.get_rasl_aligned_df(self.read_df, self.RASLseqProbes_obj.aligner_dir, \\\n",
    "                            self.RASLseqProbes_obj.probedb_file, print_on=self.print_on, aligner='blast')\n",
    "        \n",
    "        #filtering blast results\n",
    "        self.read_df = self.read_df[(self.read_df.length > self.blast_results_filter['length']) & \\\n",
    "                                    (self.read_df.qstart < self.blast_results_filter['qstart']) & \\\n",
    "                                    (self.read_df.observed_wellbc.map(len) < \\\n",
    "                                            self.blast_results_filter['obs_wellbc_len_max']) & \\\n",
    "                                    (self.read_df.observed_wellbc.map(len) > \\\n",
    "                                            self.blast_results_filter['obs_wellbc_len_min'])]     \n",
    "        \n",
    "        #SUM PROBE-SPECIFIC READ COUNTS\n",
    "        self.read_df_counts = self._get_probe_well_read_counts(self.read_df)\n",
    "        \n",
    "        self.read_count_mapped = self.read_df_counts.sum().sum()\n",
    "        \n",
    "        \n",
    "        #MERGING WELL ANNOTATIONS AND PROBE READ COUNTS\n",
    "        #return self.read_df_counts, self.RASLseqBCannot_obj.well_annot_df\n",
    "        self.RASLseqAnalysis_df = self._merge_plate_well_annot(self.read_df_counts, self.RASLseqBCannot_obj.well_annot_df)     \n",
    "        \n",
    "        \n",
    "        self.RASLseqAnalysis_df.to_csv(self.write_path, sep=\"\\t\")\n",
    "        self.read_df_counts.to_csv(self.write_path+'.read_df_counts', sep=\"\\t\")\n",
    "        self.read_df.to_csv(self.write_path+'.read_df', sep=\"\\t\")\n",
    "        \n",
    "        os.system('gzip ' + self.write_path+'.read_df')\n",
    "        \n",
    "        return"
   ]
  },
  {
   "cell_type": "code",
   "execution_count": 2,
   "metadata": {
    "collapsed": false
   },
   "outputs": [],
   "source": [
    "\n",
    "\n",
    "fastq_path= '/Users/ers_vader/Dropbox/RASLseq/Bcell_exp2/ipynb/data/truth_sets/SeqRun1/lane1_Undetermined_L001_R1_001_truth_set_reads.fastq.gz'\n",
    "sequencer_id= '@D3NJ6HQ1'\n",
    "probes_path= '/Users/ers_vader/Dropbox/RASLseq/Bcell_exp2/ipynb/data/on_target_probes_Bcell_2014.probes'\n",
    "blastdb_path= '/Users/ers_vader/Dropbox/RASLseq/Bcell_exp2/ipynb/data/temp/'\n",
    "blastn_dir= '/usr/local/ncbi/blast/bin/'\n",
    "well_annot= '/Users/ers_vader/Dropbox/RASLseq/Bcell_exp2/ipynb/data/20131203_Rasl-Seq_bioactive_cmp-Table1.tsv'\n",
    "write_path= '/Users/ers_vader/Dropbox/RASLseq/Bcell_exp2/ipynb/data/temp/output_BLAST.txt'"
   ]
  },
  {
   "cell_type": "code",
   "execution_count": 3,
   "metadata": {
    "collapsed": false
   },
   "outputs": [],
   "source": [
    "test = RASLseqAnalysis_obj_heur(fastq_path, sequencer_id, probes_path, blastdb_path, blastn_dir, well_annot, write_path, print_on=False)"
   ]
  },
  {
   "cell_type": "markdown",
   "metadata": {},
   "source": [
    "#MISSING BARCODE"
   ]
  },
  {
   "cell_type": "code",
   "execution_count": 9,
   "metadata": {
    "collapsed": false
   },
   "outputs": [
    {
     "data": {
      "text/plain": [
       "383"
      ]
     },
     "execution_count": 9,
     "metadata": {},
     "output_type": "execute_result"
    }
   ],
   "source": [
    "len(test.RASLseqBCannot_obj.well_annot_df.Well_BC_seq.unique())"
   ]
  },
  {
   "cell_type": "code",
   "execution_count": 10,
   "metadata": {
    "collapsed": false
   },
   "outputs": [
    {
     "data": {
      "text/html": [
       "<div style=\"max-height:1000px;max-width:1500px;overflow:auto;\">\n",
       "<table border=\"1\" class=\"dataframe\">\n",
       "  <thead>\n",
       "    <tr style=\"text-align: right;\">\n",
       "      <th></th>\n",
       "      <th>PlatePosition</th>\n",
       "      <th>BC1</th>\n",
       "      <th>BC1_Sequence</th>\n",
       "      <th>BC1_Read</th>\n",
       "      <th>BC</th>\n",
       "      <th>Primer</th>\n",
       "      <th>P5</th>\n",
       "      <th>SP1</th>\n",
       "      <th>AD1</th>\n",
       "      <th>PrimerSequence</th>\n",
       "    </tr>\n",
       "  </thead>\n",
       "  <tbody>\n",
       "    <tr>\n",
       "      <th>0</th>\n",
       "      <td> A1</td>\n",
       "      <td> 1</td>\n",
       "      <td> GACTGACT</td>\n",
       "      <td> GACTGACT</td>\n",
       "      <td> BC1_1</td>\n",
       "      <td> FP_BC1_1</td>\n",
       "      <td> AATGATACGGCGACCACCGA</td>\n",
       "      <td> CGTCCGAACCCCAACGCACG</td>\n",
       "      <td> GGAAGCCTTGGCTTTTG</td>\n",
       "      <td> AATGATACGGCGACCACCGACGTCCGAACCCCAACGCACGGACTGA...</td>\n",
       "    </tr>\n",
       "    <tr>\n",
       "      <th>1</th>\n",
       "      <td> A2</td>\n",
       "      <td> 2</td>\n",
       "      <td> GCATGCAT</td>\n",
       "      <td> GCATGCAT</td>\n",
       "      <td> BC1_2</td>\n",
       "      <td> FP_BC1_2</td>\n",
       "      <td> AATGATACGGCGACCACCGA</td>\n",
       "      <td> CGTCCGAACCCCAACGCACG</td>\n",
       "      <td> GGAAGCCTTGGCTTTTG</td>\n",
       "      <td> AATGATACGGCGACCACCGACGTCCGAACCCCAACGCACGGCATGC...</td>\n",
       "    </tr>\n",
       "    <tr>\n",
       "      <th>2</th>\n",
       "      <td> A3</td>\n",
       "      <td> 3</td>\n",
       "      <td> ATCGATCG</td>\n",
       "      <td> ATCGATCG</td>\n",
       "      <td> BC1_3</td>\n",
       "      <td> FP_BC1_3</td>\n",
       "      <td> AATGATACGGCGACCACCGA</td>\n",
       "      <td> CGTCCGAACCCCAACGCACG</td>\n",
       "      <td> GGAAGCCTTGGCTTTTG</td>\n",
       "      <td> AATGATACGGCGACCACCGACGTCCGAACCCCAACGCACGATCGAT...</td>\n",
       "    </tr>\n",
       "    <tr>\n",
       "      <th>3</th>\n",
       "      <td> A4</td>\n",
       "      <td> 4</td>\n",
       "      <td> CTAGCTAG</td>\n",
       "      <td> CTAGCTAG</td>\n",
       "      <td> BC1_4</td>\n",
       "      <td> FP_BC1_4</td>\n",
       "      <td> AATGATACGGCGACCACCGA</td>\n",
       "      <td> CGTCCGAACCCCAACGCACG</td>\n",
       "      <td> GGAAGCCTTGGCTTTTG</td>\n",
       "      <td> AATGATACGGCGACCACCGACGTCCGAACCCCAACGCACGCTAGCT...</td>\n",
       "    </tr>\n",
       "    <tr>\n",
       "      <th>4</th>\n",
       "      <td> A5</td>\n",
       "      <td> 5</td>\n",
       "      <td> GTACGTAC</td>\n",
       "      <td> GTACGTAC</td>\n",
       "      <td> BC1_5</td>\n",
       "      <td> FP_BC1_5</td>\n",
       "      <td> AATGATACGGCGACCACCGA</td>\n",
       "      <td> CGTCCGAACCCCAACGCACG</td>\n",
       "      <td> GGAAGCCTTGGCTTTTG</td>\n",
       "      <td> AATGATACGGCGACCACCGACGTCCGAACCCCAACGCACGGTACGT...</td>\n",
       "    </tr>\n",
       "  </tbody>\n",
       "</table>\n",
       "</div>"
      ],
      "text/plain": [
       "  PlatePosition  BC1 BC1_Sequence  BC1_Read     BC    Primer  \\\n",
       "0            A1    1     GACTGACT  GACTGACT  BC1_1  FP_BC1_1   \n",
       "1            A2    2     GCATGCAT  GCATGCAT  BC1_2  FP_BC1_2   \n",
       "2            A3    3     ATCGATCG  ATCGATCG  BC1_3  FP_BC1_3   \n",
       "3            A4    4     CTAGCTAG  CTAGCTAG  BC1_4  FP_BC1_4   \n",
       "4            A5    5     GTACGTAC  GTACGTAC  BC1_5  FP_BC1_5   \n",
       "\n",
       "                     P5                   SP1                AD1  \\\n",
       "0  AATGATACGGCGACCACCGA  CGTCCGAACCCCAACGCACG  GGAAGCCTTGGCTTTTG   \n",
       "1  AATGATACGGCGACCACCGA  CGTCCGAACCCCAACGCACG  GGAAGCCTTGGCTTTTG   \n",
       "2  AATGATACGGCGACCACCGA  CGTCCGAACCCCAACGCACG  GGAAGCCTTGGCTTTTG   \n",
       "3  AATGATACGGCGACCACCGA  CGTCCGAACCCCAACGCACG  GGAAGCCTTGGCTTTTG   \n",
       "4  AATGATACGGCGACCACCGA  CGTCCGAACCCCAACGCACG  GGAAGCCTTGGCTTTTG   \n",
       "\n",
       "                                      PrimerSequence  \n",
       "0  AATGATACGGCGACCACCGACGTCCGAACCCCAACGCACGGACTGA...  \n",
       "1  AATGATACGGCGACCACCGACGTCCGAACCCCAACGCACGGCATGC...  \n",
       "2  AATGATACGGCGACCACCGACGTCCGAACCCCAACGCACGATCGAT...  \n",
       "3  AATGATACGGCGACCACCGACGTCCGAACCCCAACGCACGCTAGCT...  \n",
       "4  AATGATACGGCGACCACCGACGTCCGAACCCCAACGCACGGTACGT...  "
      ]
     },
     "execution_count": 10,
     "metadata": {},
     "output_type": "execute_result"
    }
   ],
   "source": [
    "bcs = pd.read_table('/Users/ers_vader/Desktop/barcodes/FP_BC1-Table 1.csv',sep=',')\n",
    "bcs.head()"
   ]
  },
  {
   "cell_type": "code",
   "execution_count": 12,
   "metadata": {
    "collapsed": false
   },
   "outputs": [
    {
     "data": {
      "text/plain": [
       "{'CCTAGTTA'}"
      ]
     },
     "execution_count": 12,
     "metadata": {},
     "output_type": "execute_result"
    }
   ],
   "source": [
    "set(bcs.BC1_Read) - set(test.RASLseqBCannot_obj.well_annot_df.Well_BC_seq.unique())"
   ]
  },
  {
   "cell_type": "code",
   "execution_count": null,
   "metadata": {
    "collapsed": true
   },
   "outputs": [],
   "source": []
  },
  {
   "cell_type": "code",
   "execution_count": null,
   "metadata": {
    "collapsed": true
   },
   "outputs": [],
   "source": []
  },
  {
   "cell_type": "code",
   "execution_count": null,
   "metadata": {
    "collapsed": true
   },
   "outputs": [],
   "source": []
  },
  {
   "cell_type": "code",
   "execution_count": null,
   "metadata": {
    "collapsed": true
   },
   "outputs": [],
   "source": []
  },
  {
   "cell_type": "code",
   "execution_count": null,
   "metadata": {
    "collapsed": true
   },
   "outputs": [],
   "source": []
  },
  {
   "cell_type": "code",
   "execution_count": null,
   "metadata": {
    "collapsed": true
   },
   "outputs": [],
   "source": []
  },
  {
   "cell_type": "code",
   "execution_count": null,
   "metadata": {
    "collapsed": true
   },
   "outputs": [],
   "source": []
  }
 ],
 "metadata": {
  "kernelspec": {
   "display_name": "Python 2",
   "language": "python",
   "name": "python2"
  },
  "language_info": {
   "codemirror_mode": {
    "name": "ipython",
    "version": 2
   },
   "file_extension": ".py",
   "mimetype": "text/x-python",
   "name": "python",
   "nbconvert_exporter": "python",
   "pygments_lexer": "ipython2",
   "version": "2.7.9"
  }
 },
 "nbformat": 4,
 "nbformat_minor": 0
}
